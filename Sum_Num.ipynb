{
  "nbformat": 4,
  "nbformat_minor": 0,
  "metadata": {
    "colab": {
      "provenance": [],
      "authorship_tag": "ABX9TyMlu9Lo/iO+KzBIo+kEPu64",
      "include_colab_link": true
    },
    "kernelspec": {
      "name": "python3",
      "display_name": "Python 3"
    },
    "language_info": {
      "name": "python"
    }
  },
  "cells": [
    {
      "cell_type": "markdown",
      "metadata": {
        "id": "view-in-github",
        "colab_type": "text"
      },
      "source": [
        "<a href=\"https://colab.research.google.com/github/samad1234678/Simulation_of_retail_Banking/blob/main/Sum_Num.ipynb\" target=\"_parent\"><img src=\"https://colab.research.google.com/assets/colab-badge.svg\" alt=\"Open In Colab\"/></a>"
      ]
    },
    {
      "cell_type": "code",
      "execution_count": 3,
      "metadata": {
        "colab": {
          "base_uri": "https://localhost:8080/"
        },
        "id": "So5_WzNTdyZp",
        "outputId": "c6305350-b38a-4a4f-8687-ce4d886e8d49"
      },
      "outputs": [
        {
          "output_type": "stream",
          "name": "stdout",
          "text": [
            "Sum = 200\n"
          ]
        }
      ],
      "source": [
        "numbers = [20, 30, 40, 50, 60]\n",
        "total = 0\n",
        "for num in numbers:\n",
        "    total += num\n",
        "print(\"Sum =\", total)\n"
      ]
    }
  ]
}